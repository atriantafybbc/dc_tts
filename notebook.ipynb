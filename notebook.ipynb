{
 "cells": [
  {
   "cell_type": "markdown",
   "metadata": {
    "colab_type": "text",
    "id": "N4vqXzZI2fro"
   },
   "source": [
    "## Setup\n",
    "\n",
    "### Install dependencies"
   ]
  },
  {
   "cell_type": "code",
   "execution_count": 1,
   "metadata": {
    "colab": {},
    "colab_type": "code",
    "id": "G4-CKFr22uBB"
   },
   "outputs": [],
   "source": [
    "import os\n",
    "import IPython\n",
    "from IPython.display import Audio\n",
    "from hyperparams import Hyperparams as hp\n"
   ]
  },
  {
   "cell_type": "code",
   "execution_count": 2,
   "metadata": {},
   "outputs": [
    {
     "name": "stderr",
     "output_type": "stream",
     "text": [
      "/home/ubuntu/anaconda3/envs/tensorflow_p27/lib/python2.7/site-packages/librosa/__init__.py:40: DeprecationWarning: You are using librosa with Python 2. Please note that librosa 0.7 will be the last version to support Python 2, after which it will require Python 3 or later.\n",
      "  DeprecationWarning)\n"
     ]
    }
   ],
   "source": [
    "from synthesize import Synthesizer"
   ]
  },
  {
   "cell_type": "code",
   "execution_count": 3,
   "metadata": {
    "colab": {},
    "colab_type": "code",
    "id": "LjqMQn2y6j58"
   },
   "outputs": [],
   "source": [
    "#! ls checkpoints/i-0db58090af9cb95af/LJ01-1"
   ]
  },
  {
   "cell_type": "code",
   "execution_count": 4,
   "metadata": {},
   "outputs": [],
   "source": [
    "#! ls checkpoints/i-031e73172dafa5ce9/LJ01-2"
   ]
  },
  {
   "cell_type": "code",
   "execution_count": 5,
   "metadata": {},
   "outputs": [],
   "source": [
    "checkpoint_text2mel = \"checkpoints/i-0db58090af9cb95af/LJ01-1/model_gs_820k\"\n",
    "checkpoint_ssrn = \"checkpoints/i-031e73172dafa5ce9/LJ01-2/model_gs_773k\""
   ]
  },
  {
   "cell_type": "code",
   "execution_count": 6,
   "metadata": {},
   "outputs": [
    {
     "name": "stdout",
     "output_type": "stream",
     "text": [
      "WARNING:tensorflow:From /home/ubuntu/anaconda3/envs/tensorflow_p27/lib/python2.7/site-packages/tensorflow/python/framework/op_def_library.py:263: colocate_with (from tensorflow.python.framework.ops) is deprecated and will be removed in a future version.\n",
      "Instructions for updating:\n",
      "Colocations handled automatically by placer.\n",
      "\n",
      "WARNING: The TensorFlow contrib module will not be included in TensorFlow 2.0.\n",
      "For more information, please see:\n",
      "  * https://github.com/tensorflow/community/blob/master/rfcs/20180907-contrib-sunset.md\n",
      "  * https://github.com/tensorflow/addons\n",
      "If you depend on functionality not listed there, please file an issue.\n",
      "\n",
      "WARNING:tensorflow:From modules.py:134: conv1d (from tensorflow.python.layers.convolutional) is deprecated and will be removed in a future version.\n",
      "Instructions for updating:\n",
      "Use keras.layers.conv1d instead.\n",
      "WARNING:tensorflow:From modules.py:139: dropout (from tensorflow.python.layers.core) is deprecated and will be removed in a future version.\n",
      "Instructions for updating:\n",
      "Use keras.layers.dropout instead.\n",
      "WARNING:tensorflow:From networks.py:140: to_float (from tensorflow.python.ops.math_ops) is deprecated and will be removed in a future version.\n",
      "Instructions for updating:\n",
      "Use tf.cast instead.\n",
      "WARNING:tensorflow:From modules.py:239: conv2d_transpose (from tensorflow.python.layers.convolutional) is deprecated and will be removed in a future version.\n",
      "Instructions for updating:\n",
      "Use keras.layers.conv2d_transpose instead.\n",
      "WARNING:tensorflow:From /home/ubuntu/anaconda3/envs/tensorflow_p27/lib/python2.7/site-packages/tensorflow/python/training/saver.py:1266: checkpoint_exists (from tensorflow.python.training.checkpoint_management) is deprecated and will be removed in a future version.\n",
      "Instructions for updating:\n",
      "Use standard file APIs to check for files with this prefix.\n",
      "INFO:tensorflow:Restoring parameters from /home/ubuntu/pytorch-dc-tts/notebooks/checkpoints/i-0db58090af9cb95af/LJ01-1/model_gs_820k\n",
      "INFO:tensorflow:Restoring parameters from /home/ubuntu/pytorch-dc-tts/notebooks/checkpoints/i-031e73172dafa5ce9/LJ01-2/model_gs_773k\n"
     ]
    }
   ],
   "source": [
    "synthesizer = Synthesizer(checkpoint_text2mel, checkpoint_ssrn)"
   ]
  },
  {
   "cell_type": "code",
   "execution_count": 7,
   "metadata": {},
   "outputs": [
    {
     "name": "stdout",
     "output_type": "stream",
     "text": [
      "checkpoints/i-031e73172dafa5ce9/LJ01-2/model_gs_747k.data-00000-of-00001\r\n",
      "checkpoints/i-031e73172dafa5ce9/LJ01-2/model_gs_747k.index\r\n",
      "checkpoints/i-031e73172dafa5ce9/LJ01-2/model_gs_747k.meta\r\n"
     ]
    }
   ],
   "source": [
    "! ls checkpoints/i-031e73172dafa5ce9/LJ01-2/model_gs_747k*"
   ]
  },
  {
   "cell_type": "code",
   "execution_count": 34,
   "metadata": {},
   "outputs": [],
   "source": [
    "tongue_twisters = [\n",
    "    \"Peter Piper picked a peck of pickled peppers\",\n",
    "    \"A peck of pickled peppers Peter Piper picked\",\n",
    "    \"If Peter Piper picked a peck of pickled peppers\",\n",
    "    \"Where’s the peck of pickled peppers Peter Piper picked?\",\n",
    "    \"How much wood would a woodchuck chuck if a woodchuck could chuck wood?\",\n",
    "    \"He would chuck, he would, as much as he could, and chuck as much wood\",\n",
    "    \"As a woodchuck would if a woodchuck could chuck wood\",\n",
    "    \"She sells seashells by the seashore\",\n",
    "    \"Susie works in a shoeshine shop. Where she shines she sits, and where she sits she shines\",\n",
    "    \"Fuzzy Wuzzy was a bear. Fuzzy Wuzzy had no hair. Fuzzy Wuzzy wasn’t fuzzy, was he?\"\n",
    "]\n",
    "experiments = [\n",
    "    \"the way i live my life is an eternal dance with the universe\",\n",
    "    \"is reality merely a hallucination\",\n",
    "    \"this is the big question\",\n",
    "    \"Trying to define yourself is like trying to bite your own teeth\",\n",
    "    \"have a wonderful day sir\",\n",
    "    \"today is a wonderful day\",\n",
    "    \"yesterday i witnessed a shower of meteorites\",\n",
    "    \"this is just another long sentence which i am sure will make no sense whatsoever to anyone who reads it\",    \n",
    "    \"i believe we are on the verge of something\",\n",
    "    \"something peculiar and mysterious as the universe itself\",\n",
    "    \"i really love the spice girls\",\n",
    "    \"i wish i knew what the meaning of life was\",\n",
    "    \"what science has said in sum is this.\",\n",
    "    \"we do not and in all probability cannot know whether god exists.\",\n",
    "    \"nothing that we do know suggests that he does\",\n",
    "    \"and all the arguments which claim to prove his existence are found to be without logical meaning\"\n",
    "]\n",
    "ljset = [\n",
    "    \"The birch canoe slid on the smooth planks\",\n",
    "    \"Glue the sheet to the dark blue background\",\n",
    "    \"It's easy to tell the depth of a well\",\n",
    "    \"These days a chicken leg is a rare dish\",\n",
    "    \"Rice is often served in round bowls\",\n",
    "    \"The juice of lemons makes fine punch\",\n",
    "    \"The box was thrown beside the parked truck\",\n",
    "    \"The hogs were fed chopped corn and garbage\",\n",
    "    \"Four hours of steady work faced us\",\n",
    "    \"Large size in stockings is hard to sell\",\n",
    "    \"The boy was there when the sun rose\"    \n",
    "]\n",
    "quotes = [\n",
    "    \"You are a function of what the whole universe is doing\",\n",
    "    \"in the same way that a wave is a function of what the whole ocean is doing\",\n",
    "    \"The only way to make sense out of change is to plunge into it, move with it, and join the dance\",\n",
    "    \"This is the real secret of life\",\n",
    "    \"to be completely engaged with what you are doing in the here and now\",\n",
    "    \"and instead of calling it work, realize it is play\",\n",
    "    \"but I'll tell you what hermits realize\",\n",
    "    \"If you go off into a far, far forest and get very quiet\",\n",
    "    \"you'll come to understand that you're connected with everything\",    \n",
    "    \"we seldom realize, for example, that our most private thoughts and emotions are not actually our own\",\n",
    "    \"for we think in terms of languages and images which we did not invent\",\n",
    "    \"but which were given to us by our society\",\n",
    "]\n",
    "sherlock = [\n",
    "    \"To Sherlock Holmes she is always the woman.\",\n",
    "    \"I have seldom heard him mention her under any other name.\",\n",
    "    \"In his eyes she eclipses and predominates the whole of her sex.\",\n",
    "    \"It was not that he felt any emotion akin to love for Irene Adler\",\n",
    "    \"All emotions, and that one particularly were abhorrent to his cold, precise but admirably balanced mind\",\n",
    "    \"He was, I take it, the most perfect reasoning and observing machine that the world has seen\",\n",
    "    \"but as a lover he would have placed himself in a false position.\",\n",
    "    \"He never spoke of the softer passions, save with a gibe and a sneer.\",\n",
    "    \"They were admirable things for the observer\",\n",
    "    \"excellent for drawing the veil from men’s motives and actions.\"\n",
    "]\n",
    "\n",
    "multiple_lines = [\n",
    "    \"This is a set of sentences.\\n\" + \\\n",
    "    \"These sentences span multiple lines. But they can also be on the same line. The way this works is by using a sentence detector that knows where exactly to split\\n\" + \\\n",
    "    \"Now tell me, what do you think about this? I think this works pretty well\"\n",
    "]\n",
    "\n",
    "story1 = \"\"\"\n",
    "I think, Watson, that you have put on seven and a half pounds since I saw you.\n",
    "Seven!\n",
    "I answered.\n",
    "Indeed, I should have thought a little more.\n",
    "Just a trifle more, I fancy, Watson.\n",
    "And in practice again, I observe.\n",
    "You did not tell me that you intended to go into harness.\n",
    "Then, how do you know?\n",
    "I see it, I deduce it.\n",
    "How do I know that you have been getting yourself very wet lately, and that you have a most clumsy and careless servant girl?\n",
    "My dear Holmes, said I, this is too much.\n",
    "\"\"\"\n",
    "\n",
    "story2 = \"\"\"\n",
    "Write good pages. The best encyclopedia pages have useful, well-written information.\n",
    "Use the pages to learn and teach. These pages can help people learn English. You can also use them to make a new Wikipedia to help other people.\n",
    "\"\"\"\n",
    "\n",
    "story3 = \"\"\"\n",
    "    A robot may not injure a human being or, through inaction, allow a human being to come to harm.\n",
    "    A robot must obey orders given it by human beings except where such orders would conflict with the First Law.\n",
    "    A robot must protect its own existence as long as such protection does not conflict with the First or Second Law. \n",
    "\"\"\"\n",
    "\n",
    "stories = [\n",
    "    story3\n",
    "]\n",
    "\n",
    "sentences = stories\n"
   ]
  },
  {
   "cell_type": "code",
   "execution_count": null,
   "metadata": {},
   "outputs": [
    {
     "name": "stderr",
     "output_type": "stream",
     "text": [
      " 47%|████▋     | 98/210 [00:04<00:05, 21.66it/s]"
     ]
    }
   ],
   "source": [
    "for i, sentence in enumerate(sentences):\n",
    "    filename = \"test%d.wav\" % i\n",
    "    synthesizer.synthesize(sentence, filename)\n",
    "    print(sentence)\n",
    "    IPython.display.display(Audio(filename, rate=hp.sr))"
   ]
  },
  {
   "cell_type": "code",
   "execution_count": null,
   "metadata": {},
   "outputs": [],
   "source": []
  },
  {
   "cell_type": "code",
   "execution_count": null,
   "metadata": {},
   "outputs": [],
   "source": []
  },
  {
   "cell_type": "code",
   "execution_count": 10,
   "metadata": {},
   "outputs": [
    {
     "name": "stdout",
     "output_type": "stream",
     "text": [
      "checkpoints\t       hyperparams.pyc\tREADME.md\t  test2.wav  test.wav\r\n",
      "data_load.py\t       LICENSE\t\trequirements.txt  test3.wav  train.py\r\n",
      "data_load.pyc\t       modules.py\tsynthesize.py\t  test4.wav  train.pyc\r\n",
      "dctts_tf.ipynb\t       modules.pyc\tsynthesize.pyc\t  test5.wav  utils.py\r\n",
      "fig\t\t       networks.py\ttest0.wav\t  test6.wav  utils.pyc\r\n",
      "harvard_sentences.txt  networks.pyc\ttest10.wav\t  test7.wav\r\n",
      "horse.ogg\t       notebook.ipynb\ttest11.wav\t  test8.wav\r\n",
      "hyperparams.py\t       prepo.py\t\ttest1.wav\t  test9.wav\r\n"
     ]
    }
   ],
   "source": [
    "! ls"
   ]
  },
  {
   "cell_type": "code",
   "execution_count": null,
   "metadata": {},
   "outputs": [],
   "source": []
  }
 ],
 "metadata": {
  "accelerator": "GPU",
  "colab": {
   "collapsed_sections": [],
   "name": "EnglishTTS.ipynb",
   "provenance": [],
   "version": "0.3.2"
  },
  "kernelspec": {
   "display_name": "Python 3",
   "language": "python",
   "name": "python3"
  },
  "language_info": {
   "codemirror_mode": {
    "name": "ipython",
    "version": 2
   },
   "file_extension": ".py",
   "mimetype": "text/x-python",
   "name": "python",
   "nbconvert_exporter": "python",
   "pygments_lexer": "ipython2",
   "version": "2.7.15"
  }
 },
 "nbformat": 4,
 "nbformat_minor": 1
}
